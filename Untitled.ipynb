{
  "cells": [
    {
      "cell_type": "markdown",
      "metadata": {
        "id": "view-in-github",
        "colab_type": "text"
      },
      "source": [
        "<a href=\"https://colab.research.google.com/github/Puzan789/30daysofMachineLearningchallange/blob/master/Untitled.ipynb\" target=\"_parent\"><img src=\"https://colab.research.google.com/assets/colab-badge.svg\" alt=\"Open In Colab\"/></a>"
      ]
    },
    {
      "cell_type": "code",
      "execution_count": null,
      "id": "542b6264",
      "metadata": {
        "id": "542b6264",
        "outputId": "89d1ef4b-f054-4e52-c9d4-6e60fc78d0dc"
      },
      "outputs": [
        {
          "name": "stdout",
          "output_type": "stream",
          "text": [
            "Requirement already satisfied: numpy in c:\\users\\aayush\\anaconda3\\lib\\site-packages (1.24.3)\n"
          ]
        },
        {
          "name": "stderr",
          "output_type": "stream",
          "text": [
            "WARNING: Ignoring invalid distribution -atplotlib (c:\\users\\aayush\\anaconda3\\lib\\site-packages)\n",
            "WARNING: Ignoring invalid distribution -illow (c:\\users\\aayush\\anaconda3\\lib\\site-packages)\n",
            "WARNING: Error parsing requirements for plotly: [Errno 2] No such file or directory: 'c:\\\\users\\\\aayush\\\\anaconda3\\\\lib\\\\site-packages\\\\plotly-5.14.1.dist-info\\\\METADATA'\n",
            "WARNING: Ignoring invalid distribution -atplotlib (c:\\users\\aayush\\anaconda3\\lib\\site-packages)\n",
            "WARNING: Ignoring invalid distribution -illow (c:\\users\\aayush\\anaconda3\\lib\\site-packages)\n"
          ]
        }
      ],
      "source": [
        "!pip install numpy"
      ]
    },
    {
      "cell_type": "code",
      "execution_count": null,
      "id": "9be0493c",
      "metadata": {
        "id": "9be0493c",
        "outputId": "6d0ee8c9-aaf1-4345-d5f1-c4523918e721"
      },
      "outputs": [
        {
          "data": {
            "text/plain": [
              "'1.24.3'"
            ]
          },
          "execution_count": 2,
          "metadata": {},
          "output_type": "execute_result"
        }
      ],
      "source": [
        "import numpy as np\n",
        "np.__version__"
      ]
    },
    {
      "cell_type": "code",
      "execution_count": null,
      "id": "10add670",
      "metadata": {
        "id": "10add670",
        "outputId": "ab63883d-854c-49ff-c48f-6a631a05e02e"
      },
      "outputs": [
        {
          "name": "stdout",
          "output_type": "stream",
          "text": [
            "[1 2 3 4 5 6 7 8 9]\n"
          ]
        }
      ],
      "source": [
        "l = [1,2,3,4,5,6,7,8,9]\n",
        "a = np.array(l)\n",
        "print(a)"
      ]
    },
    {
      "cell_type": "code",
      "execution_count": null,
      "id": "19d1992c",
      "metadata": {
        "id": "19d1992c",
        "outputId": "d3664e18-0b48-446d-f364-4bca27367a75"
      },
      "outputs": [
        {
          "name": "stdout",
          "output_type": "stream",
          "text": [
            "[11 13 15 17 19 21 23 25 27]\n"
          ]
        }
      ],
      "source": [
        "#Addition\n",
        "l = [1,2,3,4,5,6,7,8,9]\n",
        "a = np.array(l)\n",
        "l1 = [10,11,12,13,14,15,16,17,18]\n",
        "b = np.array(l1)\n",
        "c = a+b\n",
        "print(c)"
      ]
    },
    {
      "cell_type": "code",
      "execution_count": null,
      "id": "e2445163",
      "metadata": {
        "id": "e2445163",
        "outputId": "6d99dee4-4f09-438d-972c-eec2c8d0aa01"
      },
      "outputs": [
        {
          "name": "stdout",
          "output_type": "stream",
          "text": [
            "[ 6  7  8  9 10 11 12 13 14]\n",
            "[-4 -3 -2 -1  0  1  2  3  4]\n",
            "[ 5 10 15 20 25 30 35 40 45]\n",
            "[0.2 0.4 0.6 0.8 1.  1.2 1.4 1.6 1.8]\n"
          ]
        }
      ],
      "source": [
        "l = [1,2,3,4,5,6,7,8,9]\n",
        "print(np.array(l)+5)\n",
        "print(np.array(l)-5)\n",
        "print(np.array(l)*5)\n",
        "print(np.array(l)/5)"
      ]
    },
    {
      "cell_type": "code",
      "execution_count": null,
      "id": "86fc9305",
      "metadata": {
        "id": "86fc9305",
        "outputId": "c5b4666f-869c-464b-9490-5ac14d89eadc"
      },
      "outputs": [
        {
          "data": {
            "text/plain": [
              "(9,)"
            ]
          },
          "execution_count": 8,
          "metadata": {},
          "output_type": "execute_result"
        }
      ],
      "source": [
        "# shape of an array\n",
        "a = np.array([1,2,3,4,5,6,7,8,9])\n",
        "a.shape"
      ]
    },
    {
      "cell_type": "code",
      "execution_count": null,
      "id": "8e8ae9f4",
      "metadata": {
        "id": "8e8ae9f4",
        "outputId": "8465ce31-d3f3-43ba-cc5c-f11788568a83"
      },
      "outputs": [
        {
          "name": "stdout",
          "output_type": "stream",
          "text": [
            "(3, 3)\n",
            "int32\n"
          ]
        }
      ],
      "source": [
        "a = np.array([[1,2,3],\n",
        "              [4,5,6],\n",
        "              [7,8,0]])\n",
        "print(a.shape)\n",
        "print(a.dtype)"
      ]
    },
    {
      "cell_type": "code",
      "execution_count": null,
      "id": "3bdb1eee",
      "metadata": {
        "id": "3bdb1eee",
        "outputId": "d78ad055-9ce5-49b1-d5bf-992dc77390eb"
      },
      "outputs": [
        {
          "name": "stdout",
          "output_type": "stream",
          "text": [
            "(3, 3)\n",
            "float64\n"
          ]
        }
      ],
      "source": [
        "a = np.array([[1.,2.,3.],\n",
        "              [4.,5.,6.],\n",
        "              [7.,8.,0.]])\n",
        "print(a.shape)\n",
        "print(a.dtype)"
      ]
    },
    {
      "cell_type": "code",
      "execution_count": null,
      "id": "e883c6f3",
      "metadata": {
        "id": "e883c6f3",
        "outputId": "4f6b5bca-4e8d-4a5c-97b5-60383494b947"
      },
      "outputs": [
        {
          "name": "stdout",
          "output_type": "stream",
          "text": [
            "(3, 3, 1)\n"
          ]
        }
      ],
      "source": [
        "a = np.array([[[1],[2],[3]],\n",
        "              [[4],[5],[6]],\n",
        "              [[7],[8],[0]]])\n",
        "print(a.shape)"
      ]
    },
    {
      "cell_type": "code",
      "execution_count": null,
      "id": "661b1e04",
      "metadata": {
        "id": "661b1e04",
        "outputId": "ab77161e-40d8-483d-a23e-f71b816d57d9"
      },
      "outputs": [
        {
          "name": "stdout",
          "output_type": "stream",
          "text": [
            "[[0. 0. 0.]\n",
            " [0. 0. 0.]\n",
            " [0. 0. 0.]]\n",
            "[[1. 1. 1.]\n",
            " [1. 1. 1.]\n",
            " [1. 1. 1.]]\n"
          ]
        }
      ],
      "source": [
        "print(np.zeros((3,3)))\n",
        "print(np.ones((3,3)))\n"
      ]
    },
    {
      "cell_type": "code",
      "execution_count": null,
      "id": "3e55cf01",
      "metadata": {
        "id": "3e55cf01",
        "outputId": "89066a5f-fd9e-4785-f52c-cc12e4588ba2"
      },
      "outputs": [
        {
          "name": "stdout",
          "output_type": "stream",
          "text": [
            "[[1 2]\n",
            " [3 4]\n",
            " [5 6]]\n",
            "[[1 2 3]\n",
            " [4 5 6]]\n",
            "[[1 2 3 4 5 6]]\n",
            "[[1]\n",
            " [2]\n",
            " [3]\n",
            " [4]\n",
            " [5]\n",
            " [6]]\n",
            "[[[1]]\n",
            "\n",
            " [[2]]\n",
            "\n",
            " [[3]]\n",
            "\n",
            " [[4]]\n",
            "\n",
            " [[5]]\n",
            "\n",
            " [[6]]]\n"
          ]
        }
      ],
      "source": [
        "# reshaping\n",
        "# 6 -> 2*3\n",
        "# 6 -> 3*2\n",
        "# 6 -> 1*6\n",
        "# 6 -> 6*1\n",
        "a = np.array([[1,2,3],\n",
        "              [4,5,6]])\n",
        "print(a.reshape((3,2)))\n",
        "print(a.reshape((2,3)))\n",
        "print(a.reshape((1,6)))\n",
        "print(a.reshape((6,1)))\n",
        "print(a.reshape((6,1,1)))\n"
      ]
    },
    {
      "cell_type": "code",
      "execution_count": null,
      "id": "d07049d8",
      "metadata": {
        "id": "d07049d8",
        "outputId": "1db7a035-29e9-4598-c72a-26cf1e41b63e"
      },
      "outputs": [
        {
          "name": "stdout",
          "output_type": "stream",
          "text": [
            "[1 2 3 4 5 6]\n"
          ]
        }
      ],
      "source": [
        "a = np.array([[1,2,3],\n",
        "              [4,5,6]])\n",
        "print(a.flatten())"
      ]
    },
    {
      "cell_type": "code",
      "execution_count": null,
      "id": "c97af470",
      "metadata": {
        "id": "c97af470",
        "outputId": "7044a880-3042-42bd-cbbe-0d85025d77b1"
      },
      "outputs": [
        {
          "name": "stdout",
          "output_type": "stream",
          "text": [
            "[1 2 3 4 5 6]\n"
          ]
        }
      ],
      "source": [
        "print(a.reshape((6,)))"
      ]
    },
    {
      "cell_type": "code",
      "execution_count": null,
      "id": "6f210049",
      "metadata": {
        "id": "6f210049",
        "outputId": "9dd49a0c-d4a0-4682-e5bd-575ec7465796"
      },
      "outputs": [
        {
          "data": {
            "text/plain": [
              "array([[ 1,  2,  3,  4,  5],\n",
              "       [ 6,  7,  8,  9, 10]])"
            ]
          },
          "execution_count": 28,
          "metadata": {},
          "output_type": "execute_result"
        }
      ],
      "source": [
        "a = np.array([1,2,3,4,5])\n",
        "b = np.array([6,7,8,9,10])\n",
        "\n",
        "np.vstack((a,b))"
      ]
    },
    {
      "cell_type": "code",
      "execution_count": null,
      "id": "cdc10d97",
      "metadata": {
        "id": "cdc10d97",
        "outputId": "6f3b3307-4e77-4f41-f081-de6fc1354736"
      },
      "outputs": [
        {
          "data": {
            "text/plain": [
              "array([ 1,  2,  3,  4,  5,  6,  7,  8,  9, 10])"
            ]
          },
          "execution_count": 31,
          "metadata": {},
          "output_type": "execute_result"
        }
      ],
      "source": [
        "a = np.array([1,2,3,4,5])\n",
        "b = np.array([6,7,8,9,10])\n",
        "\n",
        "np.hstack((a,b))"
      ]
    },
    {
      "cell_type": "code",
      "execution_count": null,
      "id": "a3ca1f68",
      "metadata": {
        "id": "a3ca1f68",
        "outputId": "32cf4afe-42b3-4eab-f2ec-fbd5af12414a"
      },
      "outputs": [
        {
          "name": "stdout",
          "output_type": "stream",
          "text": [
            "[[0.706099   0.2850908  0.02164471 0.89640171 0.38827512]\n",
            " [0.78727555 0.88938337 0.19469963 0.67203159 0.99816926]\n",
            " [0.74903949 0.33207544 0.0127023  0.65342895 0.06827904]\n",
            " [0.8220125  0.2207162  0.89303487 0.98203264 0.29309735]\n",
            " [0.77538968 0.18336412 0.07636586 0.51792428 0.64117438]]\n"
          ]
        }
      ],
      "source": [
        "# creating random matrix\n",
        "import numpy as np\n",
        "print(np.random.rand(5,5))\n"
      ]
    },
    {
      "cell_type": "code",
      "execution_count": null,
      "id": "e57b8109",
      "metadata": {
        "id": "e57b8109",
        "outputId": "384c7655-208c-4d49-c06a-858025b344a2"
      },
      "outputs": [
        {
          "name": "stdout",
          "output_type": "stream",
          "text": [
            "[[203  10 148  51  11 114 234  21  69 215]\n",
            " [177  94  44 159 141 247 237 197 218 243]\n",
            " [144  31  39 178 124  89  66 181 186  79]\n",
            " [145   1 185 194   1 248 202  73 130 171]\n",
            " [143  42 106 219  84 123 126   5  51 173]\n",
            " [186 111 117 138 161 232 198 145 226 166]\n",
            " [207  68 206  59 188 163  67  45  55  35]\n",
            " [170 138 175  16  96  37  66  27  99 144]\n",
            " [213  53  67  80 119 135 188 152 221  53]\n",
            " [188  39 145 106 233 134  14 245 128 200]]\n"
          ]
        }
      ],
      "source": [
        "print(np.random.randint(0, 256, size=[10,10]))"
      ]
    },
    {
      "cell_type": "code",
      "execution_count": null,
      "id": "4864c0d9",
      "metadata": {
        "id": "4864c0d9",
        "outputId": "8a1e3063-be76-45d3-9816-65d3b6a43954"
      },
      "outputs": [
        {
          "name": "stdout",
          "output_type": "stream",
          "text": [
            "['e' 'a' 'o' 'u' 'i' 'e' 'o' 'o' 'i' 'i']\n"
          ]
        }
      ],
      "source": [
        "print(np.random.choice(['a', 'e', 'i', 'o', 'u'], size=10))"
      ]
    },
    {
      "cell_type": "code",
      "execution_count": null,
      "id": "5daf8b10",
      "metadata": {
        "id": "5daf8b10",
        "outputId": "ea07cd21-d83f-4b7d-e20c-6900493eff49"
      },
      "outputs": [
        {
          "data": {
            "text/plain": [
              "'e4uui385u5'"
            ]
          },
          "execution_count": 19,
          "metadata": {},
          "output_type": "execute_result"
        }
      ],
      "source": [
        "\"\".join(np.random.choice([1,2,3,4,5,6,7,8,9,0,'a', 'e', 'i', 'o', 'u'], size=10))\n"
      ]
    },
    {
      "cell_type": "code",
      "execution_count": null,
      "id": "54ac14e3",
      "metadata": {
        "id": "54ac14e3",
        "outputId": "d75d6a3c-0b2f-44a7-a2ce-0192be5d09ba"
      },
      "outputs": [
        {
          "name": "stdout",
          "output_type": "stream",
          "text": [
            "['u' 'i' 'o' 'o' 'o' 'o' 'e' 'e' 'a' 'a']\n"
          ]
        }
      ],
      "source": [
        "# Pick 10 items from a given list with a predefined probability 'p'\n",
        "print(np.random.choice(['a', 'e', 'i', 'o', 'u'], size=10, p=[0.3, 0.1, 0.1, 0.4, 0.1]))\n"
      ]
    },
    {
      "cell_type": "code",
      "execution_count": null,
      "id": "9b662cde",
      "metadata": {
        "id": "9b662cde",
        "outputId": "ad509d4a-afe2-4166-e1ea-655af56ac39a"
      },
      "outputs": [
        {
          "data": {
            "text/plain": [
              "'ouuaaauuea'"
            ]
          },
          "execution_count": 26,
          "metadata": {},
          "output_type": "execute_result"
        }
      ],
      "source": [
        "\"\".join(np.random.choice(['a', 'e', 'i', 'o', 'u'], size=10, p=[0.3, 0.1, 0.1, 0.4, 0.1]))"
      ]
    },
    {
      "cell_type": "code",
      "execution_count": null,
      "id": "2eadb589",
      "metadata": {
        "id": "2eadb589",
        "outputId": "161772a6-134b-4ad0-deff-6da6c8472c42"
      },
      "outputs": [
        {
          "name": "stdout",
          "output_type": "stream",
          "text": [
            "Min num =  32\n",
            "Max num =  90\n",
            "Mean num =  61.38461538461539\n",
            "Median =  65.0\n",
            "Std =  18.218918576107647\n"
          ]
        }
      ],
      "source": [
        "# stat function\n",
        "a = np.array([45,67,43,56,78,90,32,45,65,78,43,67,89])\n",
        "print(\"Min num = \",np.min(a))\n",
        "print(\"Max num = \",np.max(a))\n",
        "print(\"Mean num = \",np.mean(a))\n",
        "print(\"Median = \",np.median(a))\n",
        "print(\"Std = \",np.std(a))"
      ]
    },
    {
      "cell_type": "code",
      "execution_count": null,
      "id": "60765b99",
      "metadata": {
        "id": "60765b99",
        "outputId": "f45bdae7-81f0-4d8d-f77b-d9ed7f7d7d43"
      },
      "outputs": [
        {
          "name": "stdout",
          "output_type": "stream",
          "text": [
            "Std =  0.0\n"
          ]
        }
      ],
      "source": [
        "a = np.array([1,1,1,1,1,1,1,1,1,1,1,1,1])\n",
        "print(\"Std = \",np.std(a))"
      ]
    },
    {
      "cell_type": "code",
      "execution_count": null,
      "id": "221f3c80",
      "metadata": {
        "id": "221f3c80",
        "outputId": "86bc97f8-a56a-4ca5-a57e-7eb28f3d0b65"
      },
      "outputs": [
        {
          "name": "stdout",
          "output_type": "stream",
          "text": [
            "Std =  2.581988897471611\n"
          ]
        }
      ],
      "source": [
        "a = np.array([1,2,3,4,5,6,7,8,9])\n",
        "print(\"Std = \",np.std(a))"
      ]
    },
    {
      "cell_type": "code",
      "execution_count": null,
      "id": "23c62746",
      "metadata": {
        "id": "23c62746",
        "outputId": "7cbbb35d-ea58-4d0d-ab2c-558dda6871db"
      },
      "outputs": [
        {
          "data": {
            "text/plain": [
              "259.0"
            ]
          },
          "execution_count": 35,
          "metadata": {},
          "output_type": "execute_result"
        }
      ],
      "source": [
        "import scipy.linalg as slin\n",
        "import numpy as np\n",
        "a = np.array([[ 3, -5, 8],\n",
        "            [-1, 2, 3],\n",
        "            [-5, -6, 2]])\n",
        "slin.det(a)"
      ]
    },
    {
      "cell_type": "code",
      "execution_count": null,
      "id": "ca39e93a",
      "metadata": {
        "id": "ca39e93a",
        "outputId": "9418e12f-2a52-411e-eb21-86fbbc88c6da"
      },
      "outputs": [
        {
          "data": {
            "text/plain": [
              "4.4634641586858864e+21"
            ]
          },
          "execution_count": 36,
          "metadata": {},
          "output_type": "execute_result"
        }
      ],
      "source": [
        "matrix = np.random.randint(0, 256, size=[10,10])\n",
        "slin.det(matrix)"
      ]
    },
    {
      "cell_type": "code",
      "execution_count": null,
      "id": "ec25f33c",
      "metadata": {
        "id": "ec25f33c",
        "outputId": "04496dc5-19ca-4d60-faf7-0ed3facfae76"
      },
      "outputs": [
        {
          "data": {
            "text/plain": [
              "array([[ 0.08494208, -0.14671815, -0.11969112],\n",
              "       [-0.05019305,  0.17760618, -0.06563707],\n",
              "       [ 0.06177606,  0.16602317,  0.003861  ]])"
            ]
          },
          "execution_count": 37,
          "metadata": {},
          "output_type": "execute_result"
        }
      ],
      "source": [
        "import scipy.linalg as slin\n",
        "import numpy as np\n",
        "a = np.array([[ 3, -5, 8],\n",
        "             [-1, 2, 3],\n",
        "             [-5, -6, 2]])\n",
        "slin.inv(a)"
      ]
    },
    {
      "cell_type": "code",
      "execution_count": null,
      "id": "89e2eb35",
      "metadata": {
        "id": "89e2eb35",
        "outputId": "1999db6a-6466-45a3-90ba-98d2fc5b1b28"
      },
      "outputs": [
        {
          "data": {
            "text/plain": [
              "array([[ 3, -1, -5],\n",
              "       [-5,  2, -6],\n",
              "       [ 8,  3,  2]])"
            ]
          },
          "execution_count": 39,
          "metadata": {},
          "output_type": "execute_result"
        }
      ],
      "source": [
        "import numpy as np\n",
        "a = np.array([[ 3, -5, 8],\n",
        "             [-1, 2, 3],\n",
        "             [-5, -6, 2]])\n",
        "np.transpose(a)\n"
      ]
    },
    {
      "cell_type": "code",
      "execution_count": null,
      "id": "8bb7f54a",
      "metadata": {
        "id": "8bb7f54a",
        "outputId": "ca67fce6-46f6-4301-e82d-a2a2e074abd5"
      },
      "outputs": [
        {
          "data": {
            "text/plain": [
              "matrix([[-19],\n",
              "        [  2],\n",
              "        [-41]])"
            ]
          },
          "execution_count": 40,
          "metadata": {},
          "output_type": "execute_result"
        }
      ],
      "source": [
        "import numpy as np\n",
        "a=np.matrix([[ 3, -5, 8],\n",
        "            [-1, 2, 3],\n",
        "            [-5, -6, 2]])\n",
        "b=np.matrix([[ 3],\n",
        "             [ 4],\n",
        "             [-1]])\n",
        "a*b"
      ]
    },
    {
      "cell_type": "code",
      "execution_count": null,
      "id": "3411f7e4",
      "metadata": {
        "id": "3411f7e4"
      },
      "outputs": [],
      "source": []
    }
  ],
  "metadata": {
    "kernelspec": {
      "display_name": "Python 3 (ipykernel)",
      "language": "python",
      "name": "python3"
    },
    "language_info": {
      "codemirror_mode": {
        "name": "ipython",
        "version": 3
      },
      "file_extension": ".py",
      "mimetype": "text/x-python",
      "name": "python",
      "nbconvert_exporter": "python",
      "pygments_lexer": "ipython3",
      "version": "3.9.12"
    },
    "colab": {
      "provenance": [],
      "include_colab_link": true
    }
  },
  "nbformat": 4,
  "nbformat_minor": 5
}