{
 "cells": [
  {
   "cell_type": "code",
   "execution_count": 1,
   "id": "ed9e7d9e",
   "metadata": {},
   "outputs": [],
   "source": [
    "import numpy as np"
   ]
  },
  {
   "cell_type": "code",
   "execution_count": 21,
   "id": "f014383b",
   "metadata": {},
   "outputs": [
    {
     "data": {
      "text/plain": [
       "array([2, 8, 7, 8])"
      ]
     },
     "execution_count": 21,
     "metadata": {},
     "output_type": "execute_result"
    }
   ],
   "source": [
    "a=np.array([1,2,3,4])\n",
    "a1=np.array([1,6,4,4])\n",
    "np.add(a,a1)"
   ]
  },
  {
   "cell_type": "code",
   "execution_count": 23,
   "id": "15edb594",
   "metadata": {},
   "outputs": [
    {
     "name": "stdout",
     "output_type": "stream",
     "text": [
      "[6 7 8 9]\n",
      "[ 5 10 15 20]\n",
      "[-4 -3 -2 -1]\n",
      "[0.2 0.4 0.6 0.8]\n",
      "[1 2 3 4]\n"
     ]
    }
   ],
   "source": [
    "print(a+5)\n",
    "print(a*5)\n",
    "print(a-5)\n",
    "print(a/5)\n",
    "print(a%5)"
   ]
  },
  {
   "cell_type": "code",
   "execution_count": 17,
   "id": "a2ae36fa",
   "metadata": {},
   "outputs": [
    {
     "name": "stdout",
     "output_type": "stream",
     "text": [
      "[2 8 7 6]\n"
     ]
    }
   ],
   "source": [
    "print(c)"
   ]
  },
  {
   "cell_type": "code",
   "execution_count": 34,
   "id": "670ba47b",
   "metadata": {},
   "outputs": [
    {
     "data": {
      "text/plain": [
       "(2, 4)"
      ]
     },
     "execution_count": 34,
     "metadata": {},
     "output_type": "execute_result"
    }
   ],
   "source": [
    "ap=np.array([[1,2,3,4],[4,3,5,2]])\n",
    "ap.shape"
   ]
  },
  {
   "cell_type": "code",
   "execution_count": 33,
   "id": "b1e41940",
   "metadata": {},
   "outputs": [
    {
     "data": {
      "text/plain": [
       "(2, 3)"
      ]
     },
     "execution_count": 33,
     "metadata": {},
     "output_type": "execute_result"
    }
   ],
   "source": [
    "a=np.array([[1,2,3],[3,2,4]])\n",
    "a.shape"
   ]
  },
  {
   "cell_type": "code",
   "execution_count": 51,
   "id": "7cf643ac",
   "metadata": {},
   "outputs": [],
   "source": [
    "am=np.array([\n",
    "    [\n",
    "        [1,2],[3,2],[5,6]\n",
    "    ],\n",
    "     [\n",
    "        [9,4],[5,3],[3,4]\n",
    "    ]\n",
    "    \n",
    "])"
   ]
  },
  {
   "cell_type": "code",
   "execution_count": 52,
   "id": "d54f55c5",
   "metadata": {},
   "outputs": [
    {
     "data": {
      "text/plain": [
       "(2, 3, 2)"
      ]
     },
     "execution_count": 52,
     "metadata": {},
     "output_type": "execute_result"
    }
   ],
   "source": [
    "am.shape"
   ]
  },
  {
   "cell_type": "code",
   "execution_count": 58,
   "id": "037602e9",
   "metadata": {},
   "outputs": [
    {
     "data": {
      "text/plain": [
       "4"
      ]
     },
     "execution_count": 58,
     "metadata": {},
     "output_type": "execute_result"
    }
   ],
   "source": [
    "am[0][0][1]+2"
   ]
  },
  {
   "cell_type": "code",
   "execution_count": 64,
   "id": "cd1d1683",
   "metadata": {},
   "outputs": [
    {
     "data": {
      "text/plain": [
       "array([[[0., 0., 0.],\n",
       "        [0., 0., 0.],\n",
       "        [0., 0., 0.],\n",
       "        [0., 0., 0.],\n",
       "        [0., 0., 0.]],\n",
       "\n",
       "       [[0., 0., 0.],\n",
       "        [0., 0., 0.],\n",
       "        [0., 0., 0.],\n",
       "        [0., 0., 0.],\n",
       "        [0., 0., 0.]],\n",
       "\n",
       "       [[0., 0., 0.],\n",
       "        [0., 0., 0.],\n",
       "        [0., 0., 0.],\n",
       "        [0., 0., 0.],\n",
       "        [0., 0., 0.]]])"
      ]
     },
     "execution_count": 64,
     "metadata": {},
     "output_type": "execute_result"
    }
   ],
   "source": [
    "np.zeros([3,5,3])"
   ]
  },
  {
   "cell_type": "code",
   "execution_count": 65,
   "id": "17a00fc4",
   "metadata": {},
   "outputs": [
    {
     "data": {
      "text/plain": [
       "array([[1., 1.],\n",
       "       [1., 1.],\n",
       "       [1., 1.]])"
      ]
     },
     "execution_count": 65,
     "metadata": {},
     "output_type": "execute_result"
    }
   ],
   "source": [
    "np.ones([3,2])"
   ]
  },
  {
   "cell_type": "code",
   "execution_count": 67,
   "id": "dba1af1e",
   "metadata": {},
   "outputs": [
    {
     "data": {
      "text/plain": [
       "array([0.  , 0.25, 0.5 , 0.75, 1.  , 1.25, 1.5 , 1.75, 2.  ])"
      ]
     },
     "execution_count": 67,
     "metadata": {},
     "output_type": "execute_result"
    }
   ],
   "source": [
    " np.linspace(0,2,9) "
   ]
  },
  {
   "cell_type": "code",
   "execution_count": 75,
   "id": "74667949",
   "metadata": {},
   "outputs": [],
   "source": [
    "d=np.arange(10,25,2).reshape"
   ]
  },
  {
   "cell_type": "code",
   "execution_count": 76,
   "id": "5896758a",
   "metadata": {},
   "outputs": [
    {
     "data": {
      "text/plain": [
       "array([10, 12, 14, 16, 18, 20, 22, 24])"
      ]
     },
     "execution_count": 76,
     "metadata": {},
     "output_type": "execute_result"
    }
   ],
   "source": [
    "d"
   ]
  },
  {
   "cell_type": "code",
   "execution_count": 88,
   "id": "99e3eae4",
   "metadata": {},
   "outputs": [],
   "source": [
    "a=np.array([\n",
    "    [1,2,4,5,6,3,2,2],\n",
    "    [5,3,4,5,7,8,94,2]\n",
    "])"
   ]
  },
  {
   "cell_type": "code",
   "execution_count": 81,
   "id": "dafd7ba1",
   "metadata": {},
   "outputs": [
    {
     "data": {
      "text/plain": [
       "(2, 3)"
      ]
     },
     "execution_count": 81,
     "metadata": {},
     "output_type": "execute_result"
    }
   ],
   "source": [
    "a.shape"
   ]
  },
  {
   "cell_type": "code",
   "execution_count": 95,
   "id": "e17a103c",
   "metadata": {},
   "outputs": [],
   "source": [
    "# Reshaping\n",
    "a\n",
    "c=a.reshape((4,2,2,1,1,1))"
   ]
  },
  {
   "cell_type": "code",
   "execution_count": 96,
   "id": "1ab144a2",
   "metadata": {},
   "outputs": [
    {
     "data": {
      "text/plain": [
       "array([[[[[[ 1]]],\n",
       "\n",
       "\n",
       "         [[[ 2]]]],\n",
       "\n",
       "\n",
       "\n",
       "        [[[[ 4]]],\n",
       "\n",
       "\n",
       "         [[[ 5]]]]],\n",
       "\n",
       "\n",
       "\n",
       "\n",
       "       [[[[[ 6]]],\n",
       "\n",
       "\n",
       "         [[[ 3]]]],\n",
       "\n",
       "\n",
       "\n",
       "        [[[[ 2]]],\n",
       "\n",
       "\n",
       "         [[[ 2]]]]],\n",
       "\n",
       "\n",
       "\n",
       "\n",
       "       [[[[[ 5]]],\n",
       "\n",
       "\n",
       "         [[[ 3]]]],\n",
       "\n",
       "\n",
       "\n",
       "        [[[[ 4]]],\n",
       "\n",
       "\n",
       "         [[[ 5]]]]],\n",
       "\n",
       "\n",
       "\n",
       "\n",
       "       [[[[[ 7]]],\n",
       "\n",
       "\n",
       "         [[[ 8]]]],\n",
       "\n",
       "\n",
       "\n",
       "        [[[[94]]],\n",
       "\n",
       "\n",
       "         [[[ 2]]]]]])"
      ]
     },
     "execution_count": 96,
     "metadata": {},
     "output_type": "execute_result"
    }
   ],
   "source": [
    "c"
   ]
  },
  {
   "cell_type": "code",
   "execution_count": 98,
   "id": "bf6b8e11",
   "metadata": {},
   "outputs": [
    {
     "data": {
      "text/plain": [
       "array([1, 2, 3, 4, 5, 6, 6, 4, 5])"
      ]
     },
     "execution_count": 98,
     "metadata": {},
     "output_type": "execute_result"
    }
   ],
   "source": [
    "p=np.array([[[1,2,3],\n",
    "           [4,5,6],\n",
    "            [6,4,5]]])\n",
    "p.flatten()"
   ]
  },
  {
   "cell_type": "code",
   "execution_count": 99,
   "id": "20b76773",
   "metadata": {},
   "outputs": [
    {
     "data": {
      "text/plain": [
       "array([1, 2, 3, 4, 5, 6, 6, 4, 5])"
      ]
     },
     "execution_count": 99,
     "metadata": {},
     "output_type": "execute_result"
    }
   ],
   "source": [
    "p=np.array([[[1,2,3],\n",
    "           [4,5,6],\n",
    "            [6,4,5]]])\n",
    "p.reshape(9)"
   ]
  },
  {
   "cell_type": "markdown",
   "id": "b6989527",
   "metadata": {},
   "source": [
    "## hstack vstack"
   ]
  },
  {
   "cell_type": "code",
   "execution_count": 103,
   "id": "630eca21",
   "metadata": {},
   "outputs": [
    {
     "data": {
      "text/plain": [
       "array([1, 2, 3, 4, 4, 5, 6, 3])"
      ]
     },
     "execution_count": 103,
     "metadata": {},
     "output_type": "execute_result"
    }
   ],
   "source": [
    "a=np.array([1,2,3,4])\n",
    "b=np.array([4,5,6,3])\n",
    "np.hstack((a,b))"
   ]
  },
  {
   "cell_type": "code",
   "execution_count": 105,
   "id": "ac23d936",
   "metadata": {},
   "outputs": [
    {
     "data": {
      "text/plain": [
       "array([[1],\n",
       "       [2],\n",
       "       [3],\n",
       "       [4]])"
      ]
     },
     "execution_count": 105,
     "metadata": {},
     "output_type": "execute_result"
    }
   ],
   "source": [
    "a=np.array([1,2,3,4])\n",
    "b=np.array([4,5,6,3])\n",
    "np.vstack((a))"
   ]
  },
  {
   "cell_type": "code",
   "execution_count": 111,
   "id": "5e7e02cb",
   "metadata": {},
   "outputs": [
    {
     "data": {
      "text/plain": [
       "(2, 2, 1, 1)"
      ]
     },
     "execution_count": 111,
     "metadata": {},
     "output_type": "execute_result"
    }
   ],
   "source": [
    "p=a.reshape(2,2,1,1)\n",
    "\n"
   ]
  },
  {
   "cell_type": "code",
   "execution_count": null,
   "id": "1d491e56",
   "metadata": {},
   "outputs": [],
   "source": []
  }
 ],
 "metadata": {
  "kernelspec": {
   "display_name": "Python 3 (ipykernel)",
   "language": "python",
   "name": "python3"
  },
  "language_info": {
   "codemirror_mode": {
    "name": "ipython",
    "version": 3
   },
   "file_extension": ".py",
   "mimetype": "text/x-python",
   "name": "python",
   "nbconvert_exporter": "python",
   "pygments_lexer": "ipython3",
   "version": "3.11.3"
  }
 },
 "nbformat": 4,
 "nbformat_minor": 5
}
