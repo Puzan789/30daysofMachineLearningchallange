{
 "cells": [
  {
   "cell_type": "code",
   "execution_count": 1,
   "id": "ed9e7d9e",
   "metadata": {},
   "outputs": [],
   "source": [
    "import numpy as np"
   ]
  },
  {
   "cell_type": "code",
   "execution_count": 21,
   "id": "f014383b",
   "metadata": {},
   "outputs": [
    {
     "data": {
      "text/plain": [
       "array([2, 8, 7, 8])"
      ]
     },
     "execution_count": 21,
     "metadata": {},
     "output_type": "execute_result"
    }
   ],
   "source": [
    "a=np.array([1,2,3,4])\n",
    "a1=np.array([1,6,4,4])\n",
    "np.add(a,a1)"
   ]
  },
  {
   "cell_type": "code",
   "execution_count": 23,
   "id": "15edb594",
   "metadata": {},
   "outputs": [
    {
     "name": "stdout",
     "output_type": "stream",
     "text": [
      "[6 7 8 9]\n",
      "[ 5 10 15 20]\n",
      "[-4 -3 -2 -1]\n",
      "[0.2 0.4 0.6 0.8]\n",
      "[1 2 3 4]\n"
     ]
    }
   ],
   "source": [
    "print(a+5)\n",
    "print(a*5)\n",
    "print(a-5)\n",
    "print(a/5)\n",
    "print(a%5)"
   ]
  },
  {
   "cell_type": "code",
   "execution_count": 17,
   "id": "a2ae36fa",
   "metadata": {},
   "outputs": [
    {
     "name": "stdout",
     "output_type": "stream",
     "text": [
      "[2 8 7 6]\n"
     ]
    }
   ],
   "source": [
    "print(c)"
   ]
  },
  {
   "cell_type": "code",
   "execution_count": 34,
   "id": "670ba47b",
   "metadata": {},
   "outputs": [
    {
     "data": {
      "text/plain": [
       "(2, 4)"
      ]
     },
     "execution_count": 34,
     "metadata": {},
     "output_type": "execute_result"
    }
   ],
   "source": [
    "ap=np.array([[1,2,3,4],[4,3,5,2]])\n",
    "ap.shape"
   ]
  },
  {
   "cell_type": "code",
   "execution_count": 33,
   "id": "b1e41940",
   "metadata": {},
   "outputs": [
    {
     "data": {
      "text/plain": [
       "(2, 3)"
      ]
     },
     "execution_count": 33,
     "metadata": {},
     "output_type": "execute_result"
    }
   ],
   "source": [
    "a=np.array([[1,2,3],[3,2,4]])\n",
    "a.shape"
   ]
  },
  {
   "cell_type": "code",
   "execution_count": 51,
   "id": "7cf643ac",
   "metadata": {},
   "outputs": [],
   "source": [
    "am=np.array([\n",
    "    [\n",
    "        [1,2],[3,2],[5,6]\n",
    "    ],\n",
    "     [\n",
    "        [9,4],[5,3],[3,4]\n",
    "    ]\n",
    "    \n",
    "])"
   ]
  },
  {
   "cell_type": "code",
   "execution_count": 52,
   "id": "d54f55c5",
   "metadata": {},
   "outputs": [
    {
     "data": {
      "text/plain": [
       "(2, 3, 2)"
      ]
     },
     "execution_count": 52,
     "metadata": {},
     "output_type": "execute_result"
    }
   ],
   "source": [
    "am.shape"
   ]
  },
  {
   "cell_type": "code",
   "execution_count": 58,
   "id": "037602e9",
   "metadata": {},
   "outputs": [
    {
     "data": {
      "text/plain": [
       "4"
      ]
     },
     "execution_count": 58,
     "metadata": {},
     "output_type": "execute_result"
    }
   ],
   "source": [
    "am[0][0][1]+2"
   ]
  },
  {
   "cell_type": "code",
   "execution_count": 64,
   "id": "cd1d1683",
   "metadata": {},
   "outputs": [
    {
     "data": {
      "text/plain": [
       "array([[[0., 0., 0.],\n",
       "        [0., 0., 0.],\n",
       "        [0., 0., 0.],\n",
       "        [0., 0., 0.],\n",
       "        [0., 0., 0.]],\n",
       "\n",
       "       [[0., 0., 0.],\n",
       "        [0., 0., 0.],\n",
       "        [0., 0., 0.],\n",
       "        [0., 0., 0.],\n",
       "        [0., 0., 0.]],\n",
       "\n",
       "       [[0., 0., 0.],\n",
       "        [0., 0., 0.],\n",
       "        [0., 0., 0.],\n",
       "        [0., 0., 0.],\n",
       "        [0., 0., 0.]]])"
      ]
     },
     "execution_count": 64,
     "metadata": {},
     "output_type": "execute_result"
    }
   ],
   "source": [
    "np.zeros([3,5,3])"
   ]
  },
  {
   "cell_type": "code",
   "execution_count": 65,
   "id": "17a00fc4",
   "metadata": {},
   "outputs": [
    {
     "data": {
      "text/plain": [
       "array([[1., 1.],\n",
       "       [1., 1.],\n",
       "       [1., 1.]])"
      ]
     },
     "execution_count": 65,
     "metadata": {},
     "output_type": "execute_result"
    }
   ],
   "source": [
    "np.ones([3,2])"
   ]
  },
  {
   "cell_type": "code",
   "execution_count": 67,
   "id": "dba1af1e",
   "metadata": {},
   "outputs": [
    {
     "data": {
      "text/plain": [
       "array([0.  , 0.25, 0.5 , 0.75, 1.  , 1.25, 1.5 , 1.75, 2.  ])"
      ]
     },
     "execution_count": 67,
     "metadata": {},
     "output_type": "execute_result"
    }
   ],
   "source": [
    " np.linspace(0,2,9) "
   ]
  },
  {
   "cell_type": "code",
   "execution_count": 75,
   "id": "74667949",
   "metadata": {},
   "outputs": [],
   "source": [
    "d=np.arange(10,25,2).reshape"
   ]
  },
  {
   "cell_type": "code",
   "execution_count": 76,
   "id": "5896758a",
   "metadata": {},
   "outputs": [
    {
     "data": {
      "text/plain": [
       "array([10, 12, 14, 16, 18, 20, 22, 24])"
      ]
     },
     "execution_count": 76,
     "metadata": {},
     "output_type": "execute_result"
    }
   ],
   "source": [
    "d"
   ]
  },
  {
   "cell_type": "code",
   "execution_count": 88,
   "id": "99e3eae4",
   "metadata": {},
   "outputs": [],
   "source": [
    "a=np.array([\n",
    "    [1,2,4,5,6,3,2,2],\n",
    "    [5,3,4,5,7,8,94,2]\n",
    "])"
   ]
  },
  {
   "cell_type": "code",
   "execution_count": 81,
   "id": "dafd7ba1",
   "metadata": {},
   "outputs": [
    {
     "data": {
      "text/plain": [
       "(2, 3)"
      ]
     },
     "execution_count": 81,
     "metadata": {},
     "output_type": "execute_result"
    }
   ],
   "source": [
    "a.shape"
   ]
  },
  {
   "cell_type": "code",
   "execution_count": 95,
   "id": "e17a103c",
   "metadata": {},
   "outputs": [],
   "source": [
    "# Reshaping\n",
    "a\n",
    "c=a.reshape((4,2,2,1,1,1))"
   ]
  },
  {
   "cell_type": "code",
   "execution_count": 96,
   "id": "1ab144a2",
   "metadata": {},
   "outputs": [
    {
     "data": {
      "text/plain": [
       "array([[[[[[ 1]]],\n",
       "\n",
       "\n",
       "         [[[ 2]]]],\n",
       "\n",
       "\n",
       "\n",
       "        [[[[ 4]]],\n",
       "\n",
       "\n",
       "         [[[ 5]]]]],\n",
       "\n",
       "\n",
       "\n",
       "\n",
       "       [[[[[ 6]]],\n",
       "\n",
       "\n",
       "         [[[ 3]]]],\n",
       "\n",
       "\n",
       "\n",
       "        [[[[ 2]]],\n",
       "\n",
       "\n",
       "         [[[ 2]]]]],\n",
       "\n",
       "\n",
       "\n",
       "\n",
       "       [[[[[ 5]]],\n",
       "\n",
       "\n",
       "         [[[ 3]]]],\n",
       "\n",
       "\n",
       "\n",
       "        [[[[ 4]]],\n",
       "\n",
       "\n",
       "         [[[ 5]]]]],\n",
       "\n",
       "\n",
       "\n",
       "\n",
       "       [[[[[ 7]]],\n",
       "\n",
       "\n",
       "         [[[ 8]]]],\n",
       "\n",
       "\n",
       "\n",
       "        [[[[94]]],\n",
       "\n",
       "\n",
       "         [[[ 2]]]]]])"
      ]
     },
     "execution_count": 96,
     "metadata": {},
     "output_type": "execute_result"
    }
   ],
   "source": [
    "c"
   ]
  },
  {
   "cell_type": "code",
   "execution_count": 98,
   "id": "bf6b8e11",
   "metadata": {},
   "outputs": [
    {
     "data": {
      "text/plain": [
       "array([1, 2, 3, 4, 5, 6, 6, 4, 5])"
      ]
     },
     "execution_count": 98,
     "metadata": {},
     "output_type": "execute_result"
    }
   ],
   "source": [
    "p=np.array([[[1,2,3],\n",
    "           [4,5,6],\n",
    "            [6,4,5]]])\n",
    "p.flatten()"
   ]
  },
  {
   "cell_type": "code",
   "execution_count": 99,
   "id": "20b76773",
   "metadata": {},
   "outputs": [
    {
     "data": {
      "text/plain": [
       "array([1, 2, 3, 4, 5, 6, 6, 4, 5])"
      ]
     },
     "execution_count": 99,
     "metadata": {},
     "output_type": "execute_result"
    }
   ],
   "source": [
    "p=np.array([[[1,2,3],\n",
    "           [4,5,6],\n",
    "            [6,4,5]]])\n",
    "p.reshape(9)"
   ]
  },
  {
   "cell_type": "markdown",
   "id": "b6989527",
   "metadata": {},
   "source": [
    "## hstack vstack"
   ]
  },
  {
   "cell_type": "code",
   "execution_count": 103,
   "id": "630eca21",
   "metadata": {},
   "outputs": [
    {
     "data": {
      "text/plain": [
       "array([1, 2, 3, 4, 4, 5, 6, 3])"
      ]
     },
     "execution_count": 103,
     "metadata": {},
     "output_type": "execute_result"
    }
   ],
   "source": [
    "a=np.array([1,2,3,4])\n",
    "b=np.array([4,5,6,3])\n",
    "np.hstack((a,b))"
   ]
  },
  {
   "cell_type": "code",
   "execution_count": 105,
   "id": "ac23d936",
   "metadata": {},
   "outputs": [
    {
     "data": {
      "text/plain": [
       "array([[1],\n",
       "       [2],\n",
       "       [3],\n",
       "       [4]])"
      ]
     },
     "execution_count": 105,
     "metadata": {},
     "output_type": "execute_result"
    }
   ],
   "source": [
    "a=np.array([1,2,3,4])\n",
    "b=np.array([4,5,6,3])\n",
    "np.vstack((a))"
   ]
  },
  {
   "cell_type": "code",
   "execution_count": 111,
   "id": "5e7e02cb",
   "metadata": {},
   "outputs": [
    {
     "data": {
      "text/plain": [
       "(2, 2, 1, 1)"
      ]
     },
     "execution_count": 111,
     "metadata": {},
     "output_type": "execute_result"
    }
   ],
   "source": [
    "p=a.reshape(2,2,1,1)\n",
    "\n"
   ]
  },
  {
   "cell_type": "markdown",
   "id": "6ea9e92c",
   "metadata": {},
   "source": [
    "# Random"
   ]
  },
  {
   "cell_type": "code",
   "execution_count": 5,
   "id": "90e6f994",
   "metadata": {},
   "outputs": [
    {
     "data": {
      "text/plain": [
       "array([[0.18454867, 0.5313089 , 0.29366373]])"
      ]
     },
     "execution_count": 5,
     "metadata": {},
     "output_type": "execute_result"
    }
   ],
   "source": [
    "np.random.rand(1,3)"
   ]
  },
  {
   "cell_type": "code",
   "execution_count": 6,
   "id": "a2b4cdf1",
   "metadata": {},
   "outputs": [
    {
     "data": {
      "text/plain": [
       "array([[0.0023583 , 0.18503343],\n",
       "       [0.33195201, 0.61590102]])"
      ]
     },
     "execution_count": 6,
     "metadata": {},
     "output_type": "execute_result"
    }
   ],
   "source": [
    "np.random.rand(2,2)"
   ]
  },
  {
   "cell_type": "code",
   "execution_count": 8,
   "id": "8cd3158f",
   "metadata": {},
   "outputs": [
    {
     "data": {
      "text/plain": [
       "array([[[0.06796562, 0.69595755, 0.93587056, 0.22955017],\n",
       "        [0.08628028, 0.39869966, 0.67706418, 0.34743353],\n",
       "        [0.90058993, 0.15438197, 0.42685427, 0.36496595]]])"
      ]
     },
     "execution_count": 8,
     "metadata": {},
     "output_type": "execute_result"
    }
   ],
   "source": [
    "np.random.rand(1,3,4)"
   ]
  },
  {
   "cell_type": "code",
   "execution_count": 16,
   "id": "0562f3b7",
   "metadata": {},
   "outputs": [
    {
     "data": {
      "text/plain": [
       "array([[80, 10],\n",
       "       [15, 82]])"
      ]
     },
     "execution_count": 16,
     "metadata": {},
     "output_type": "execute_result"
    }
   ],
   "source": [
    "np.random.randint(2,100,size=[2,2])"
   ]
  },
  {
   "cell_type": "code",
   "execution_count": 23,
   "id": "6cd6ed6b",
   "metadata": {},
   "outputs": [
    {
     "data": {
      "text/plain": [
       "array([[3, 3, 3, 2, 3, 3, 0, 1, 1, 1],\n",
       "       [3, 3, 3, 0, 2, 0, 3, 0, 1, 2],\n",
       "       [1, 3, 0, 2, 0, 1, 3, 3, 3, 1],\n",
       "       [2, 1, 3, 0, 0, 2, 1, 3, 2, 2],\n",
       "       [1, 0, 3, 0, 0, 1, 1, 1, 2, 2],\n",
       "       [0, 2, 0, 2, 2, 1, 0, 1, 0, 2],\n",
       "       [2, 0, 0, 2, 2, 3, 3, 1, 0, 1],\n",
       "       [2, 1, 3, 0, 2, 0, 0, 0, 1, 1],\n",
       "       [3, 1, 3, 0, 2, 0, 1, 1, 2, 2],\n",
       "       [0, 1, 3, 3, 0, 0, 0, 3, 0, 3]])"
      ]
     },
     "execution_count": 23,
     "metadata": {},
     "output_type": "execute_result"
    }
   ],
   "source": [
    "np.random.randint(0,4,size=[10,10])"
   ]
  },
  {
   "cell_type": "code",
   "execution_count": 21,
   "id": "d82cfb2d",
   "metadata": {},
   "outputs": [
    {
     "data": {
      "text/plain": [
       "array(['e', 'u', 'u', 'u', 'o', 'i', 'i', 'u', 'a', 'e'], dtype='<U1')"
      ]
     },
     "execution_count": 21,
     "metadata": {},
     "output_type": "execute_result"
    }
   ],
   "source": [
    "np.random.choice(['a','e','i','o','u'],size=10)"
   ]
  },
  {
   "cell_type": "code",
   "execution_count": 35,
   "id": "4b5b7a42",
   "metadata": {},
   "outputs": [
    {
     "data": {
      "text/plain": [
       "'597247%94%'"
      ]
     },
     "execution_count": 35,
     "metadata": {},
     "output_type": "execute_result"
    }
   ],
   "source": [
    "\"\".join( np.random.choice([1,2,3,4,5,6,7,8,9,'@','#','%','a','e','i','o','u','m','l'],size=10))"
   ]
  },
  {
   "cell_type": "code",
   "execution_count": 45,
   "id": "4fc2f50d",
   "metadata": {},
   "outputs": [
    {
     "name": "stdout",
     "output_type": "stream",
     "text": [
      "eeaeiieeoa\n"
     ]
    }
   ],
   "source": [
    "# with prob\n",
    "print(\"\".join (np.random.choice(['a','e','i','o','u'],size=10,p=[0.2,0.4,0.1,0.1,0.2]))"
   ]
  },
  {
   "cell_type": "code",
   "execution_count": 52,
   "id": "b370ec2b",
   "metadata": {},
   "outputs": [
    {
     "name": "stdout",
     "output_type": "stream",
     "text": [
      "iieaeeieea\n"
     ]
    }
   ],
   "source": [
    "# with prob\n",
    "print(\"\".join (np.random.choice(['a','e','i','o','u'],size=10,p=[0.2,0.5,0.2,0,0.1])))"
   ]
  },
  {
   "cell_type": "markdown",
   "id": "3a11ac10",
   "metadata": {},
   "source": [
    "## Statistical Functions"
   ]
  },
  {
   "cell_type": "code",
   "execution_count": 54,
   "id": "696ca89f",
   "metadata": {},
   "outputs": [
    {
     "data": {
      "text/plain": [
       "654"
      ]
     },
     "execution_count": 54,
     "metadata": {},
     "output_type": "execute_result"
    }
   ],
   "source": [
    "ap=np.array([1,2,34,2,1,2,3,4,5,6,7,23,12,34,654,323,543,23,2,12,343,54,])\n",
    "np.min(ap)\n",
    "np.max(ap)"
   ]
  },
  {
   "cell_type": "code",
   "execution_count": 55,
   "id": "50252f5e",
   "metadata": {},
   "outputs": [
    {
     "data": {
      "text/plain": [
       "654"
      ]
     },
     "execution_count": 55,
     "metadata": {},
     "output_type": "execute_result"
    }
   ],
   "source": [
    "np.amax(ap)"
   ]
  },
  {
   "cell_type": "code",
   "execution_count": 65,
   "id": "746729e2",
   "metadata": {},
   "outputs": [
    {
     "data": {
      "text/plain": [
       "array([ 34,   2,   5,  23, 654, 543, 343])"
      ]
     },
     "execution_count": 65,
     "metadata": {},
     "output_type": "execute_result"
    }
   ],
   "source": [
    "ap=np.array([[1,2,34],[2,1,2],[3,4,5],[6,7,23],[12,34,654],[323,543,23],[2,12,343]])\n",
    "np.amax(ap,axis=1)"
   ]
  },
  {
   "cell_type": "code",
   "execution_count": 66,
   "id": "6bb401a4",
   "metadata": {},
   "outputs": [
    {
     "data": {
      "text/plain": [
       "95.0"
      ]
     },
     "execution_count": 66,
     "metadata": {},
     "output_type": "execute_result"
    }
   ],
   "source": [
    "ap=np.array([1,2,34,2,1,2,3,4,5,6,7,23,12,34,654,323,543,23,2,12,343,54,])\n",
    "np.mean(ap)"
   ]
  },
  {
   "cell_type": "code",
   "execution_count": 67,
   "id": "58f43278",
   "metadata": {},
   "outputs": [
    {
     "data": {
      "text/plain": [
       "9.5"
      ]
     },
     "execution_count": 67,
     "metadata": {},
     "output_type": "execute_result"
    }
   ],
   "source": [
    "np.median(ap)"
   ]
  },
  {
   "cell_type": "code",
   "execution_count": 69,
   "id": "83ab85bf",
   "metadata": {},
   "outputs": [
    {
     "data": {
      "text/plain": [
       "184.9717423136449"
      ]
     },
     "execution_count": 69,
     "metadata": {},
     "output_type": "execute_result"
    }
   ],
   "source": [
    "np.std(ap)"
   ]
  },
  {
   "cell_type": "code",
   "execution_count": 70,
   "id": "89a29a91",
   "metadata": {},
   "outputs": [
    {
     "data": {
      "text/plain": [
       "34214.545454545456"
      ]
     },
     "execution_count": 70,
     "metadata": {},
     "output_type": "execute_result"
    }
   ],
   "source": [
    "np.var(ap)"
   ]
  },
  {
   "cell_type": "code",
   "execution_count": 87,
   "id": "ff0e4c89",
   "metadata": {},
   "outputs": [
    {
     "data": {
      "text/plain": [
       "2.1666666666666665"
      ]
     },
     "execution_count": 87,
     "metadata": {},
     "output_type": "execute_result"
    }
   ],
   "source": [
    "aq=[1,2,3,1,2,4]\n",
    "np.mean(aq)\n"
   ]
  },
  {
   "cell_type": "code",
   "execution_count": 88,
   "id": "798e846d",
   "metadata": {},
   "outputs": [
    {
     "data": {
      "text/plain": [
       "1.0671873729054748"
      ]
     },
     "execution_count": 88,
     "metadata": {},
     "output_type": "execute_result"
    }
   ],
   "source": [
    "np.std(aq)"
   ]
  },
  {
   "cell_type": "code",
   "execution_count": 84,
   "id": "269173f2",
   "metadata": {},
   "outputs": [],
   "source": [
    "pl=np.var(aq)"
   ]
  },
  {
   "cell_type": "code",
   "execution_count": 90,
   "id": "2af30c13",
   "metadata": {},
   "outputs": [
    {
     "data": {
      "text/plain": [
       "1.0671873729054748"
      ]
     },
     "execution_count": 90,
     "metadata": {},
     "output_type": "execute_result"
    }
   ],
   "source": [
    "am=[[1,2,3],[1,2,4]]\n",
    "np.std(am)\n"
   ]
  },
  {
   "cell_type": "markdown",
   "id": "f2e0a325",
   "metadata": {},
   "source": [
    "## Matrix"
   ]
  },
  {
   "cell_type": "code",
   "execution_count": 91,
   "id": "861a8623",
   "metadata": {},
   "outputs": [],
   "source": [
    "import scipy.linalg as slin"
   ]
  },
  {
   "cell_type": "code",
   "execution_count": 101,
   "id": "5850b20b",
   "metadata": {},
   "outputs": [
    {
     "name": "stdout",
     "output_type": "stream",
     "text": [
      "240\n"
     ]
    }
   ],
   "source": [
    "p=np.array([[1,223,3],\n",
    "             [4,5,6]\n",
    "           ,[7,8,234]])\n",
    "slin.det(p)\n",
    "print(np.trace(p))"
   ]
  },
  {
   "cell_type": "code",
   "execution_count": 97,
   "id": "f79745b1",
   "metadata": {},
   "outputs": [
    {
     "data": {
      "text/plain": [
       "5.53080464939432e+21"
      ]
     },
     "execution_count": 97,
     "metadata": {},
     "output_type": "execute_result"
    }
   ],
   "source": [
    "c=np.random.randint(0,256,size=[10,10])\n",
    "slin.det(c)"
   ]
  },
  {
   "cell_type": "code",
   "execution_count": 100,
   "id": "9936d032",
   "metadata": {},
   "outputs": [
    {
     "name": "stdout",
     "output_type": "stream",
     "text": [
      "[[181 181 109  90  72 253  89  19  49  40]\n",
      " [  9  53  30   5   1  82  89  15 105  55]\n",
      " [147 156  74 187  64  48 234 176  82  36]\n",
      " [221 253 188 243  93  15 217 249 192  71]\n",
      " [149  50   0  65 178 245 251  45  96 151]\n",
      " [ 76 127  74  19 197  89 214  63 106 104]\n",
      " [190 189 232 135 232  43 238 183 162  65]\n",
      " [240 161  74  73 115 165  49  80  16  88]\n",
      " [ 58  84 179  38 146  41  60  32   8 141]\n",
      " [ 27 247   3 207  98 136 251 224 194  58]]\n"
     ]
    },
    {
     "data": {
      "text/plain": [
       "array([[181,   9, 147, 221, 149,  76, 190, 240,  58,  27],\n",
       "       [181,  53, 156, 253,  50, 127, 189, 161,  84, 247],\n",
       "       [109,  30,  74, 188,   0,  74, 232,  74, 179,   3],\n",
       "       [ 90,   5, 187, 243,  65,  19, 135,  73,  38, 207],\n",
       "       [ 72,   1,  64,  93, 178, 197, 232, 115, 146,  98],\n",
       "       [253,  82,  48,  15, 245,  89,  43, 165,  41, 136],\n",
       "       [ 89,  89, 234, 217, 251, 214, 238,  49,  60, 251],\n",
       "       [ 19,  15, 176, 249,  45,  63, 183,  80,  32, 224],\n",
       "       [ 49, 105,  82, 192,  96, 106, 162,  16,   8, 194],\n",
       "       [ 40,  55,  36,  71, 151, 104,  65,  88, 141,  58]])"
      ]
     },
     "execution_count": 100,
     "metadata": {},
     "output_type": "execute_result"
    }
   ],
   "source": [
    "print(c)\n",
    "np.transpose(c)"
   ]
  },
  {
   "cell_type": "code",
   "execution_count": 103,
   "id": "839fb478",
   "metadata": {},
   "outputs": [
    {
     "data": {
      "text/plain": [
       "array([[-5.65954935e-03,  2.63093383e-01, -6.67342584e-03],\n",
       "       [ 4.50948050e-03, -1.07440643e-03, -3.02649698e-05],\n",
       "       [ 1.51324849e-05, -7.83358302e-03,  4.47417137e-03]])"
      ]
     },
     "execution_count": 103,
     "metadata": {},
     "output_type": "execute_result"
    }
   ],
   "source": [
    "p=np.array([[1,223,3],\n",
    "             [4,5,6]\n",
    "           ,[7,8,234]])\n",
    "slin.inv(p)\n"
   ]
  },
  {
   "cell_type": "code",
   "execution_count": 119,
   "id": "16de40f8",
   "metadata": {},
   "outputs": [
    {
     "name": "stdout",
     "output_type": "stream",
     "text": [
      "[[224  36  60  48]\n",
      " [ 39  24  43  48]\n",
      " [448  96 432  48]]\n"
     ]
    }
   ],
   "source": [
    "a=np.array([[2,3,5,4],[3,2,1,4],[4,3,1,4]])\n",
    "b=np.array([[112,12,12,12],\n",
    "            [13,12,43,12],\n",
    "            [112,32,432,12]])\n",
    "print(a*b)"
   ]
  },
  {
   "cell_type": "code",
   "execution_count": 120,
   "id": "95da7517",
   "metadata": {},
   "outputs": [
    {
     "data": {
      "text/plain": [
       "128.83333333333334"
      ]
     },
     "execution_count": 120,
     "metadata": {},
     "output_type": "execute_result"
    }
   ],
   "source": [
    "np.mean(a*b)"
   ]
  },
  {
   "cell_type": "code",
   "execution_count": null,
   "id": "7ace1a63",
   "metadata": {},
   "outputs": [],
   "source": []
  }
 ],
 "metadata": {
  "kernelspec": {
   "display_name": "Python 3 (ipykernel)",
   "language": "python",
   "name": "python3"
  },
  "language_info": {
   "codemirror_mode": {
    "name": "ipython",
    "version": 3
   },
   "file_extension": ".py",
   "mimetype": "text/x-python",
   "name": "python",
   "nbconvert_exporter": "python",
   "pygments_lexer": "ipython3",
   "version": "3.11.3"
  }
 },
 "nbformat": 4,
 "nbformat_minor": 5
}
